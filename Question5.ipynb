{
 "cells": [
  {
   "cell_type": "code",
   "execution_count": 9,
   "id": "dcad6c99-e2f0-40a3-b8ab-8c5390f412a5",
   "metadata": {},
   "outputs": [
    {
     "name": "stdin",
     "output_type": "stream",
     "text": [
      "Input the temperture in Celcuis>> 10\n"
     ]
    },
    {
     "name": "stdout",
     "output_type": "stream",
     "text": [
      "The temperture in fahrenheit is 50.0\n"
     ]
    }
   ],
   "source": [
    "#Define a function to convert Celsuis to Fahrenheit\n",
    "\n",
    "def celsius_to_fahrenheit(c) :\n",
    "    return (c * 9/5 + 32)\n",
    "\n",
    "try:\n",
    "    Cel = float(input('Input the temperture in Celcuis>>'))\n",
    "    Feh = celsius_to_fahrenheit(Cel)\n",
    "    print (f'The temperture in fahrenheit is {Feh}')\n",
    "except ValueError:\n",
    "    print('Input a valid number please, try again')\n"
   ]
  },
  {
   "cell_type": "code",
   "execution_count": null,
   "id": "3a790676-c714-4449-81ab-74ab4f15510e",
   "metadata": {},
   "outputs": [],
   "source": []
  }
 ],
 "metadata": {
  "kernelspec": {
   "display_name": "Python 3 (ipykernel)",
   "language": "python",
   "name": "python3"
  },
  "language_info": {
   "codemirror_mode": {
    "name": "ipython",
    "version": 3
   },
   "file_extension": ".py",
   "mimetype": "text/x-python",
   "name": "python",
   "nbconvert_exporter": "python",
   "pygments_lexer": "ipython3",
   "version": "3.12.7"
  }
 },
 "nbformat": 4,
 "nbformat_minor": 5
}
